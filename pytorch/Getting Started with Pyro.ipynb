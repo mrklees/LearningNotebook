{
 "cells": [
  {
   "cell_type": "markdown",
   "metadata": {},
   "source": [
    "# Getting Started with Pyro\n",
    "\n",
    "Okay!  So we've gotten our feet wet with torch, and actually feel pretty good.  It was quite easy to implement a very readable version of gradient descent, which I was quite happy with. \n",
    "\n",
    "With that groundwork, lets explore pyro!  Pyro was developed by Uber for Bayesian inference, and looks like a good candidate as a next step from pymc3.\n",
    "\n",
    "As we're going through it's important to keep a few things in mind:\n",
    "\n",
    "  *  This isn't our only option. We could still transition over to Tensorflow and Edward.\n",
    "  *  We want readible models in the same way that pymc3 is very transparent about its models.  \n",
    "  *  A model in pyro shouldn't be much longer that its corresponding version in pymc3.\n",
    "\n",
    "And let's get started!"
   ]
  },
  {
   "cell_type": "code",
   "execution_count": 1,
   "metadata": {},
   "outputs": [],
   "source": [
    "import torch as t # I don't see the `as t` thing in other code, but I like it\n",
    "from torch.autograd import Variable\n",
    "\n",
    "import pyro\n",
    "import pyro.distributions as dist"
   ]
  },
  {
   "cell_type": "code",
   "execution_count": 2,
   "metadata": {
    "collapsed": true
   },
   "outputs": [],
   "source": [
    "# Let create the unit normal!\n",
    "mu = Variable(t.zeros(1))\n",
    "sigma = Variable(t.ones(1))\n",
    "# dist.normal returns a sample\n",
    "X = dist.normal(mu, sigma)"
   ]
  },
  {
   "cell_type": "code",
   "execution_count": 3,
   "metadata": {},
   "outputs": [
    {
     "name": "stdout",
     "output_type": "stream",
     "text": [
      "Variable containing:\n",
      " 0.9593\n",
      "[torch.FloatTensor of size 1]\n",
      "\n"
     ]
    }
   ],
   "source": [
    "# Here's our sample\n",
    "print(X)"
   ]
  },
  {
   "cell_type": "code",
   "execution_count": 4,
   "metadata": {},
   "outputs": [
    {
     "data": {
      "text/plain": [
       "Variable containing:\n",
       " 1.3791\n",
       "[torch.FloatTensor of size 1]"
      ]
     },
     "execution_count": 4,
     "metadata": {},
     "output_type": "execute_result"
    }
   ],
   "source": [
    "# and it's corresponding log probability\n",
    "-dist.normal.log_pdf(X, mu, sigma)"
   ]
  },
  {
   "cell_type": "markdown",
   "metadata": {},
   "source": [
    "In pyro it seems like we'll often be mroe likely to describe getting a sample in a different way."
   ]
  },
  {
   "cell_type": "code",
   "execution_count": 5,
   "metadata": {
    "collapsed": true
   },
   "outputs": [],
   "source": [
    "# Sample with the pyro.sample function\n",
    "Y = pyro.sample(\"unit_norm\", dist.normal, mu, sigma)"
   ]
  },
  {
   "cell_type": "code",
   "execution_count": 6,
   "metadata": {},
   "outputs": [
    {
     "data": {
      "text/plain": [
       "Variable containing:\n",
       " 1.8283\n",
       "[torch.FloatTensor of size 1]"
      ]
     },
     "execution_count": 6,
     "metadata": {},
     "output_type": "execute_result"
    }
   ],
   "source": [
    "Y"
   ]
  },
  {
   "cell_type": "markdown",
   "metadata": {},
   "source": [
    "Let's put this together into a model"
   ]
  },
  {
   "cell_type": "code",
   "execution_count": 7,
   "metadata": {
    "collapsed": true
   },
   "outputs": [],
   "source": [
    "def weather():\n",
    "    \"\"\"The weather generator function\n",
    "    \n",
    "    A stochastic function which returns a sample\n",
    "    with either a cloudy or sunny classification\n",
    "    and the temperature\n",
    "    \"\"\"\n",
    "    # Cloud happens with probability 0.3\n",
    "    cloudy = pyro.sample('cloudy', dist.bernoulli,\n",
    "                         Variable(t.Tensor([0.3])))\n",
    "    \n",
    "    # If the value of the cloudy sample is 1, then cloudy\n",
    "    # I love how this is done with python control flow\n",
    "    if cloudy.data[0] == 1.0:\n",
    "        cloudy = 'cloudy'\n",
    "    else:\n",
    "        cloudy = 'sunny'\n",
    "        \n",
    "    # Once we know the weather, sample the temperature\n",
    "    # These provide our priors for cloud and sunny weather\n",
    "    # The use of dictionaries is just some nice syntax that's\n",
    "    # saving us from writing a longer if statement.\n",
    "    mean_temp = {'cloudy': [55.], 'sunny': [75.]}[cloudy]\n",
    "    sigma_temp = {'cloudy': [10.], 'sunny': [15.]}[cloudy]\n",
    "    temp = pyro.sample('temp', dist.normal,\n",
    "                       Variable(t.Tensor(mean_temp)),\n",
    "                       Variable(t.Tensor(sigma_temp)))\n",
    "    return cloudy, temp.data[0]"
   ]
  },
  {
   "cell_type": "code",
   "execution_count": 8,
   "metadata": {},
   "outputs": [
    {
     "name": "stdout",
     "output_type": "stream",
     "text": [
      "('sunny', 77.79106140136719)\n",
      "('cloudy', 56.38698196411133)\n",
      "('sunny', 87.12165832519531)\n"
     ]
    }
   ],
   "source": [
    "# Drawing some samples from our generator\n",
    "for _ in range(3):\n",
    "    print(weather())"
   ]
  },
  {
   "cell_type": "code",
   "execution_count": 9,
   "metadata": {
    "collapsed": true
   },
   "outputs": [],
   "source": [
    "# Building on an existing stochastic function is easy, since it's\n",
    "# all just python\n",
    "def go_to_the_beach():\n",
    "    cloudy, temp = weather()\n",
    "    if temp > 80.:\n",
    "        p = 0.7\n",
    "    elif temp < 80. and cloudy == 'sunny':\n",
    "        p = 0.4\n",
    "    else:\n",
    "        p = 0.05\n",
    "    \n",
    "    decision = pyro.sample('decision', dist.bernoulli,\n",
    "                           Variable(t.Tensor([p])))\n",
    "    \n",
    "    outcome = 'yes' if decision.data[0] == 1 else 'no'\n",
    "    return cloudy, temp, outcome"
   ]
  },
  {
   "cell_type": "code",
   "execution_count": 10,
   "metadata": {},
   "outputs": [
    {
     "name": "stdout",
     "output_type": "stream",
     "text": [
      "('cloudy', 48.26990509033203, 'no')\n",
      "('sunny', 81.80284881591797, 'yes')\n",
      "('sunny', 75.97069549560547, 'yes')\n"
     ]
    }
   ],
   "source": [
    "for _ in range(3):\n",
    "    print(go_to_the_beach())"
   ]
  },
  {
   "cell_type": "markdown",
   "metadata": {},
   "source": [
    "Delightful!  Creating different random variables and then sampling from them is quite straightforward. Maybe even easier than pymc3.\n",
    "\n",
    "So lets move on and get to some inference. \n",
    "\n",
    "Suppose we have a math assessment we give to kids (funny right), but it doesn't always give the best score representing a students ability.  To compensate we will add a 90% confidence interval based on our observations of the student. "
   ]
  },
  {
   "cell_type": "code",
   "execution_count": 11,
   "metadata": {
    "collapsed": true
   },
   "outputs": [],
   "source": [
    "def math_assessment(low, high):\n",
    "    # Compute the parameters of the distribution corresponding  \n",
    "    # to my CI\n",
    "    mu = Variable(t.Tensor([(low + high) / 2.]))\n",
    "    sigma = Variable(t.Tensor([(high - low) / 3.29]))\n",
    "    quantile = pyro.sample(\"quantile\", dist.normal, mu, sigma)\n",
    "    # Our CI serves as the mean for our measurement data\n",
    "    # Note that this measurement is an observed variable, but we\n",
    "    # haven't indicated that within the model quite yet.  We could\n",
    "    # do so by adding the obs argument and providing the observed\n",
    "    # \n",
    "    return pyro.sample(\"measurement\", dist.normal, quantile, Variable(t.Tensor([50.])))"
   ]
  },
  {
   "cell_type": "code",
   "execution_count": 12,
   "metadata": {},
   "outputs": [
    {
     "name": "stdout",
     "output_type": "stream",
     "text": [
      "Variable containing:\n",
      " 198.5351\n",
      "[torch.FloatTensor of size 1]\n",
      "\n",
      "Variable containing:\n",
      " 188.8906\n",
      "[torch.FloatTensor of size 1]\n",
      "\n",
      "Variable containing:\n",
      " 184.3972\n",
      "[torch.FloatTensor of size 1]\n",
      "\n"
     ]
    }
   ],
   "source": [
    "for _ in range(3):\n",
    "    print(math_assessment(150, 250))"
   ]
  },
  {
   "cell_type": "code",
   "execution_count": 13,
   "metadata": {
    "collapsed": true
   },
   "outputs": [],
   "source": [
    "from pyro.infer import Marginal, Importance\n",
    "# This class is an importance sampler which we'll use to draw\n",
    "# from the posterior of math_assessment. It looks like we'll often\n",
    "# just pass this class into Marginal. \n",
    "posterior = Importance(math_assessment, num_samples=100)"
   ]
  },
  {
   "cell_type": "code",
   "execution_count": 14,
   "metadata": {},
   "outputs": [
    {
     "name": "stdout",
     "output_type": "stream",
     "text": [
      "Variable containing:\n",
      " 223.6139\n",
      "[torch.FloatTensor of size 1]\n",
      "\n"
     ]
    }
   ],
   "source": [
    "guess = (150, 250)\n",
    "# We'll now define marginal.  Marginal acts exactly like math_assessment\n",
    "# except \n",
    "marginal = Marginal(posterior)\n",
    "print(marginal(*guess))"
   ]
  },
  {
   "cell_type": "code",
   "execution_count": 15,
   "metadata": {},
   "outputs": [
    {
     "data": {
      "text/plain": [
       "<matplotlib.text.Text at 0x19cc74293c8>"
      ]
     },
     "execution_count": 15,
     "metadata": {},
     "output_type": "execute_result"
    },
    {
     "data": {
      "image/png": "[encoded data removed]",
      "text/plain": [
       "<matplotlib.figure.Figure at 0x19cc672e1d0>"
      ]
     },
     "metadata": {},
     "output_type": "display_data"
    }
   ],
   "source": [
    "import matplotlib.pyplot as plt\n",
    "%matplotlib inline\n",
    "\n",
    "plt.hist([marginal(150, 250).data[0] for _ in range(100)])\n",
    "plt.title(\"P(measurement | CI)\")\n",
    "plt.xlabel(\"weight\")\n",
    "plt.ylabel(\"#\")"
   ]
  },
  {
   "cell_type": "markdown",
   "metadata": {},
   "source": [
    "# Bayesian Linear Regression\n",
    "\n",
    "In the pytorch getting started we concluded with a basic demo of gradient descent for linear regression.  We'll do the same thing here, but this time for Bayesian Linear Regression.  After building the model, we'll reflect on how it compres to pymc3.\n",
    "\n",
    "We're following the guide available [on pyro's website.](http://pyro.ai/examples/bayesian_regression.html)"
   ]
  },
  {
   "cell_type": "code",
   "execution_count": 16,
   "metadata": {
    "collapsed": true
   },
   "outputs": [],
   "source": [
    "# Just to make sure we have everything we need\n",
    "import numpy as np\n",
    "import torch\n",
    "import torch.nn as nn\n",
    "\n",
    "from torch.autograd import Variable\n",
    "\n",
    "import pyro\n",
    "from pyro.distributions import Normal\n",
    "from pyro.infer import SVI\n",
    "from pyro.optim import Adam"
   ]
  },
  {
   "cell_type": "code",
   "execution_count": 17,
   "metadata": {
    "collapsed": true
   },
   "outputs": [],
   "source": [
    "N = 1000  # size of toy data\n",
    "p = 1    # number of features\n",
    "\n",
    "def build_linear_dataset(N, noise_std=0.1):\n",
    "    # Construct the data set in numpy\n",
    "    X = np.linspace(-5, 5, num=N)\n",
    "    y = 3 * X + 1 + np.random.normal(0, noise_std, size=N)\n",
    "    X, y = X.reshape((N, 1)), y.reshape((N, 1))\n",
    "    # Then stuff them in pytorch variables\n",
    "    X, y = Variable(torch.Tensor(X)), Variable(torch.Tensor(y))\n",
    "    return torch.cat((X, y), 1)"
   ]
  },
  {
   "cell_type": "markdown",
   "metadata": {},
   "source": [
    "### Starting with the deterministic model\n",
    "\n",
    "Curiously we start with a deterministic model and then consider distributions over its parameters. "
   ]
  },
  {
   "cell_type": "code",
   "execution_count": 18,
   "metadata": {
    "collapsed": true
   },
   "outputs": [],
   "source": [
    "class LinearRegression(nn.Module):\n",
    "    \"\"\"Linear Regression in pytorch\"\"\"\n",
    "    def __init__(self, p):\n",
    "        # Run nn.Module.__init__()\n",
    "        super(LinearRegression, self).__init__()\n",
    "        # Short hand for our linear module\n",
    "        self.linear = nn.Linear(p, 1)\n",
    "        \n",
    "    def forward(self, x):\n",
    "        \"\"\"A typical pattern for nets is to define the forward path\"\"\"\n",
    "        # But this one's a little anti-climactic\n",
    "        return self.linear(x)"
   ]
  },
  {
   "cell_type": "code",
   "execution_count": 19,
   "metadata": {
    "collapsed": true
   },
   "outputs": [],
   "source": [
    "regression_model = LinearRegression(p)"
   ]
  },
  {
   "cell_type": "code",
   "execution_count": 25,
   "metadata": {
    "collapsed": true
   },
   "outputs": [],
   "source": [
    "# Setting up our loss function and optimizer and\n",
    "# storing them in expressive names. \n",
    "loss_fn = torch.nn.MSELoss(size_average=False)\n",
    "optim = torch.optim.Adam(regression_model.parameters(), lr=0.01)\n",
    "num_iterations = 500\n",
    "\n",
    "def main():\n",
    "    data = build_linear_dataset(N, p)\n",
    "    x_data = data[:, :-1]\n",
    "    y_data = data[:, -1]\n",
    "    for j in range(num_iterations):\n",
    "        # run the model forward on the data\n",
    "        y_pred = regression_model(x_data)\n",
    "        # calculate the mse loss\n",
    "        loss = loss_fn(y_pred, y_data)\n",
    "        # initialize gradients to zero\n",
    "        optim.zero_grad()\n",
    "        # backpropagate\n",
    "        loss.backward()\n",
    "        # take a gradient step\n",
    "        optim.step()\n",
    "        if (j + 1) % 50 == 0:\n",
    "            print(\"[iteration %04d] loss: %.4f\" % (j + 1, loss.data[0]))\n",
    "    # Inspect learned parameters\n",
    "    print(\"Learned parameters:\")\n",
    "    for name, param in regression_model.named_parameters():\n",
    "        print(\"%s: %.3f\" % (name, param.data.numpy()))"
   ]
  },
  {
   "cell_type": "code",
   "execution_count": 26,
   "metadata": {},
   "outputs": [
    {
     "name": "stdout",
     "output_type": "stream",
     "text": [
      "[iteration 0050] loss: 1016.1141\n",
      "[iteration 0100] loss: 1016.0480\n",
      "[iteration 0150] loss: 1016.0480\n",
      "[iteration 0200] loss: 1016.0479\n",
      "[iteration 0250] loss: 1016.0479\n",
      "[iteration 0300] loss: 1016.0482\n",
      "[iteration 0350] loss: 1016.0479\n",
      "[iteration 0400] loss: 1016.0482\n",
      "[iteration 0450] loss: 1016.0482\n",
      "[iteration 0500] loss: 1016.0479\n",
      "Learned parameters:\n",
      "linear.weight: 2.985\n",
      "linear.bias: 0.907\n"
     ]
    }
   ],
   "source": [
    "main()"
   ]
  },
  {
   "cell_type": "markdown",
   "metadata": {},
   "source": [
    "Now that we have a linear regression model, lets make it Bayesian"
   ]
  }
 ],
 "metadata": {
  "kernelspec": {
   "display_name": "Python 3",
   "language": "python",
   "name": "python3"
  },
  "language_info": {
   "codemirror_mode": {
    "name": "ipython",
    "version": 3
   },
   "file_extension": ".py",
   "mimetype": "text/x-python",
   "name": "python",
   "nbconvert_exporter": "python",
   "pygments_lexer": "ipython3",
   "version": "3.6.1"
  }
 },
 "nbformat": 4,
 "nbformat_minor": 2
}
