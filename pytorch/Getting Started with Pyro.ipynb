{
 "cells": [
  {
   "cell_type": "markdown",
   "metadata": {},
   "source": [
    "# Getting Started with Pyro\n",
    "\n",
    "Okay!  So we've gotten our feet wet with torch, and actually feel pretty good.  It was quite easy to implement a very readable version of gradient descent, which I was quite happy with. \n",
    "\n",
    "With that groundwork, lets explore pyro!  Pyro was developed by Uber for Bayesian inference, and looks like a good candidate as a next step from pymc3.\n",
    "\n",
    "As we're going through it's important to keep a few things in mind:\n",
    "\n",
    "  *  This isn't our only option. We could still transition over to Tensorflow and Edward.\n",
    "  *  We want readible models in the same way that pymc3 is very transparent about its models.  \n",
    "  *  A model in pyro shouldn't be much longer that its corresponding version in pymc3.\n",
    "  \n",
    "And with that, lets get started  "
   ]
  },
  {
   "cell_type": "code",
   "execution_count": 79,
   "metadata": {},
   "outputs": [],
   "source": [
    "import torch as t # I don't see the `as t` thing in other code, but I like it\n",
    "from torch.autograd import Variable\n",
    "\n",
    "import pyro\n",
    "import pyro.distributions as dist"
   ]
  },
  {
   "cell_type": "code",
   "execution_count": 41,
   "metadata": {},
   "outputs": [],
   "source": [
    "# Let create the unit normal!\n",
    "mu = Variable(t.zeros(1))\n",
    "sigma = Variable(t.ones(1))\n",
    "# dist.normal returns a sample\n",
    "X = dist.normal(mu, sigma)"
   ]
  },
  {
   "cell_type": "code",
   "execution_count": 47,
   "metadata": {},
   "outputs": [
    {
     "name": "stdout",
     "output_type": "stream",
     "text": [
      "Variable containing:\n",
      " 0.5176\n",
      "[torch.FloatTensor of size 1]\n",
      "\n"
     ]
    }
   ],
   "source": [
    "# Here's our sample\n",
    "print(X)"
   ]
  },
  {
   "cell_type": "code",
   "execution_count": 48,
   "metadata": {},
   "outputs": [
    {
     "data": {
      "text/plain": [
       "Variable containing:\n",
       " 1.0529\n",
       "[torch.FloatTensor of size 1]"
      ]
     },
     "execution_count": 48,
     "metadata": {},
     "output_type": "execute_result"
    }
   ],
   "source": [
    "# and it's corresponding log probability\n",
    "-dist.normal.log_pdf(X, mu, sigma)"
   ]
  },
  {
   "cell_type": "markdown",
   "metadata": {},
   "source": [
    "In pyro it seems like we'll often be mroe likely to describe getting a sample in a different way."
   ]
  },
  {
   "cell_type": "code",
   "execution_count": 49,
   "metadata": {},
   "outputs": [],
   "source": [
    "# Sample with the pyro.sample function\n",
    "Y = pyro.sample(\"unit_norm\", dist.normal, mu, sigma)"
   ]
  },
  {
   "cell_type": "markdown",
   "metadata": {},
   "source": [
    "Let's put this together into a model"
   ]
  },
  {
   "cell_type": "code",
   "execution_count": 56,
   "metadata": {},
   "outputs": [],
   "source": [
    "def weather():\n",
    "    \"\"\"The weather generator function\n",
    "    \n",
    "    A stochastic function which returns a sample\n",
    "    with either a cloudy or sunny classification\n",
    "    and the temperature\n",
    "    \"\"\"\n",
    "    # Cloud happens with probability 0.3\n",
    "    cloudy = pyro.sample('cloudy', dist.bernoulli,\n",
    "                         Variable(t.Tensor([0.3])))\n",
    "    \n",
    "    # If the value of the cloudy sample is 1, then cloudy\n",
    "    # I love how this is done with python control flow\n",
    "    if cloudy.data[0] == 1.0:\n",
    "        cloudy = 'cloudy'\n",
    "    else:\n",
    "        cloudy = 'sunny'\n",
    "        \n",
    "    # Once we know the weather, sample the temperature\n",
    "    # These provide our priors for cloud and sunny weather\n",
    "    # The use of dictionaries is just some nice syntax that's\n",
    "    # saving us from writing a longer if statement.\n",
    "    mean_temp = {'cloudy': [55.], 'sunny': [75.]}[cloudy]\n",
    "    sigma_temp = {'cloudy': [10.], 'sunny': [15.]}[cloudy]\n",
    "    temp = pyro.sample('temp', dist.normal,\n",
    "                       Variable(t.Tensor(mean_temp)),\n",
    "                       Variable(t.Tensor(sigma_temp)))\n",
    "    return cloudy, temp.data[0]"
   ]
  },
  {
   "cell_type": "code",
   "execution_count": 57,
   "metadata": {},
   "outputs": [
    {
     "name": "stdout",
     "output_type": "stream",
     "text": [
      "('sunny', 50.01393127441406)\n",
      "('sunny', 82.3631362915039)\n",
      "('cloudy', 50.26835250854492)\n"
     ]
    }
   ],
   "source": [
    "# Drawing some samples from our generator\n",
    "for _ in range(3):\n",
    "    print(weather())"
   ]
  },
  {
   "cell_type": "code",
   "execution_count": 60,
   "metadata": {},
   "outputs": [],
   "source": [
    "# Building on an existing stochastic function is easy, since it's\n",
    "# all just python\n",
    "def go_to_the_beach():\n",
    "    cloudy, temp = weather()\n",
    "    if temp > 80.:\n",
    "        p = 0.7\n",
    "    elif temp < 80. and cloudy == 'sunny':\n",
    "        p = 0.4\n",
    "    else:\n",
    "        p = 0.05\n",
    "    \n",
    "    decision = pyro.sample('decision', dist.bernoulli,\n",
    "                           Variable(t.Tensor([p])))\n",
    "    \n",
    "    outcome = 'yes' if decision.data[0] == 1 else 'no'\n",
    "    return cloudy, temp, outcome"
   ]
  },
  {
   "cell_type": "code",
   "execution_count": 65,
   "metadata": {},
   "outputs": [
    {
     "name": "stdout",
     "output_type": "stream",
     "text": [
      "('sunny', 88.06019592285156, 'yes')\n",
      "('cloudy', 59.7537841796875, 'no')\n",
      "('sunny', 65.88948822021484, 'yes')\n"
     ]
    }
   ],
   "source": [
    "for _ in range(3):\n",
    "    print(go_to_the_beach())"
   ]
  },
  {
   "cell_type": "markdown",
   "metadata": {},
   "source": [
    "Delightful!  Creating different random variables and then sampling from them is quite straightforward. Maybe even easier than pymc3.\n",
    "\n",
    "So lets move on and get to some inference. \n",
    "\n",
    "Suppose we have a math assessment we give to kids (funny right), but it doesn't always give the best score representing a students ability.  To compensate we will add a 90% confidence interval based on our observations of the student. "
   ]
  },
  {
   "cell_type": "code",
   "execution_count": 89,
   "metadata": {},
   "outputs": [],
   "source": [
    "def math_assessment(low, high):\n",
    "    # Compute the parameters of the distribution corresponding  \n",
    "    # to my CI\n",
    "    mu = Variable(t.Tensor([(low + high) / 2.]))\n",
    "    sigma = Variable(t.Tensor([(high - low) / 3.29]))\n",
    "    quantile = pyro.sample(\"quantile\", dist.normal, mu, sigma)\n",
    "    # Our CI serves as the mean for our measurement data\n",
    "    # Note that this measurement is an observed variable, but we\n",
    "    # haven't indicated that within the model quite yet.  We could\n",
    "    # do so by adding the obs argument and providing the observed\n",
    "    # \n",
    "    return pyro.sample(\"measurement\", dist.normal, quantile, Variable(t.Tensor([50.])))"
   ]
  },
  {
   "cell_type": "code",
   "execution_count": 116,
   "metadata": {},
   "outputs": [
    {
     "name": "stdout",
     "output_type": "stream",
     "text": [
      "Variable containing:\n",
      " 180.4416\n",
      "[torch.FloatTensor of size 1]\n",
      "\n",
      "Variable containing:\n",
      " 282.2289\n",
      "[torch.FloatTensor of size 1]\n",
      "\n",
      "Variable containing:\n",
      " 160.2915\n",
      "[torch.FloatTensor of size 1]\n",
      "\n"
     ]
    }
   ],
   "source": [
    "for _ in range(3):\n",
    "    print(math_assessment(150, 250))"
   ]
  },
  {
   "cell_type": "code",
   "execution_count": 91,
   "metadata": {},
   "outputs": [],
   "source": [
    "from pyro.infer import Marginal, Importance\n",
    "# This class is an importance sampler which we'll use to draw\n",
    "# from the posterior of math_assessment. It looks like we'll often\n",
    "# just pass this class into Marginal. \n",
    "posterior = Importance(math_assessment, num_samples=100)"
   ]
  },
  {
   "cell_type": "code",
   "execution_count": 114,
   "metadata": {},
   "outputs": [
    {
     "name": "stdout",
     "output_type": "stream",
     "text": [
      "Variable containing:\n",
      " 213.8728\n",
      "[torch.FloatTensor of size 1]\n",
      "\n"
     ]
    }
   ],
   "source": [
    "guess = (150, 250)\n",
    "# We'll now define marginal.  Marginal acts exactly like math_assessment\n",
    "# except \n",
    "marginal = Marginal(posterior)\n",
    "print(marginal(*guess))"
   ]
  },
  {
   "cell_type": "code",
   "execution_count": 102,
   "metadata": {},
   "outputs": [
    {
     "data": {
      "text/plain": [
       "Text(0,0.5,'#')"
      ]
     },
     "execution_count": 102,
     "metadata": {},
     "output_type": "execute_result"
    },
    {
     "data": {
      "image/png": "[encoded data removed]",
      "text/plain": [
       "<Figure size 432x288 with 1 Axes>"
      ]
     },
     "metadata": {},
     "output_type": "display_data"
    }
   ],
   "source": [
    "import matplotlib.pyplot as plt\n",
    "%matplotlib inline\n",
    "\n",
    "plt.hist([marginal(150, 250).data[0] for _ in range(100)])\n",
    "plt.title(\"P(measurement | CI)\")\n",
    "plt.xlabel(\"weight\")\n",
    "plt.ylabel(\"#\")"
   ]
  },
  {
   "cell_type": "code",
   "execution_count": 101,
   "metadata": {},
   "outputs": [],
   "source": [
    "conditioned_test = pyro.condition(\n",
    "    math_assessment, data = {\"measurement\": Variable(t.Tensor([140]))})"
   ]
  },
  {
   "cell_type": "code",
   "execution_count": null,
   "metadata": {},
   "outputs": [],
   "source": []
  }
 ],
 "metadata": {
  "kernelspec": {
   "display_name": "Python 3",
   "language": "python",
   "name": "python3"
  },
  "language_info": {
   "codemirror_mode": {
    "name": "ipython",
    "version": 3
   },
   "file_extension": ".py",
   "mimetype": "text/x-python",
   "name": "python",
   "nbconvert_exporter": "python",
   "pygments_lexer": "ipython3",
   "version": "3.6.5"
  }
 },
 "nbformat": 4,
 "nbformat_minor": 2
}
