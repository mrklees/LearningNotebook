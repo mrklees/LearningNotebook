{
 "cells": [
  {
   "cell_type": "markdown",
   "metadata": {},
   "source": [
    "# Getting Started with pytorch\n",
    "\n",
    "Our objective in this notebook is to explore the basic syntax and capabilities of pytorch.  \n",
    "\n",
    "We'll begin our initial exploration with [this guide on their website.](http://pytorch.org/tutorials/beginner/deep_learning_60min_blitz.html)"
   ]
  },
  {
   "cell_type": "code",
   "execution_count": 1,
   "metadata": {},
   "outputs": [],
   "source": [
    "import torch as t"
   ]
  },
  {
   "cell_type": "markdown",
   "metadata": {},
   "source": [
    "The basic data structure of pytorch are tensors, a generalization of the matrix. We can easily create a tensor of arbitrary dimensions like so:"
   ]
  },
  {
   "cell_type": "code",
   "execution_count": 2,
   "metadata": {},
   "outputs": [
    {
     "name": "stdout",
     "output_type": "stream",
     "text": [
      "torch.Size([5, 3])\n",
      "\n",
      "     0.0000      0.0000      0.0000\n",
      "     0.0000   2693.3750      0.0000\n",
      " 58891.4375      0.0000      0.0000\n",
      "     0.0000      0.0000      0.0000\n",
      "  2693.1250      0.0000  58891.4375\n",
      "[torch.FloatTensor of size 5x3]\n",
      "\n"
     ]
    }
   ],
   "source": [
    "# a 5 x 3 matrix\n",
    "# Values are initialized as close to 0\n",
    "a = t.Tensor(5, 3)\n",
    "# you can also call a.size(), but I like shape because it's like numpy\n",
    "print(a.shape)\n",
    "print(a)"
   ]
  },
  {
   "cell_type": "code",
   "execution_count": 3,
   "metadata": {},
   "outputs": [
    {
     "name": "stdout",
     "output_type": "stream",
     "text": [
      "torch.Size([1])\n",
      "\n",
      " 7.5556e+31\n",
      "[torch.FloatTensor of size 1]\n",
      "\n"
     ]
    }
   ],
   "source": [
    "# A single value, again randomly initalized at 0\n",
    "b = t.Tensor(1)\n",
    "print(b.shape)\n",
    "print(b)"
   ]
  },
  {
   "cell_type": "code",
   "execution_count": 4,
   "metadata": {},
   "outputs": [
    {
     "name": "stdout",
     "output_type": "stream",
     "text": [
      "torch.Size([5, 3, 3])\n",
      "\n",
      "(0 ,.,.) = \n",
      "  0.1906  0.6923  0.3568\n",
      "  0.8051  0.9476  0.5538\n",
      "  0.1356  0.7597  0.2526\n",
      "\n",
      "(1 ,.,.) = \n",
      "  0.4742  0.3461  0.6248\n",
      "  0.2794  0.5336  0.3662\n",
      "  0.8473  0.8739  0.6530\n",
      "\n",
      "(2 ,.,.) = \n",
      "  0.1046  0.1214  0.5831\n",
      "  0.4310  0.5227  0.5204\n",
      "  0.1727  0.2886  0.1058\n",
      "\n",
      "(3 ,.,.) = \n",
      "  0.4578  0.1515  0.7608\n",
      "  0.5413  0.8578  0.0200\n",
      "  0.6218  0.6177  0.8051\n",
      "\n",
      "(4 ,.,.) = \n",
      "  0.1753  0.4745  0.4696\n",
      "  0.3338  0.0104  0.7270\n",
      "  0.6129  0.0613  0.7346\n",
      "[torch.FloatTensor of size 5x3x3]\n",
      "\n"
     ]
    }
   ],
   "source": [
    "# pytorch support a number of different probability distribution\n",
    "# we can initialize tensors from.  For example, the .rand method\n",
    "# corresponds to the uniform(0, 1) continuous distribution.\n",
    "# We'll also demonstrate a 3-dimensional tensor\n",
    "c = t.rand(5, 3, 3)\n",
    "print(c.shape)\n",
    "print(c)"
   ]
  },
  {
   "cell_type": "markdown",
   "metadata": {},
   "source": [
    "pytorch tensors support a lot of the same methods and operations that we're used to from numpy.  For example:"
   ]
  },
  {
   "cell_type": "code",
   "execution_count": 5,
   "metadata": {},
   "outputs": [],
   "source": [
    "# Initialize two tensors that we can do some ops on\n",
    "x = t.rand(3, 1)\n",
    "y = t.rand(1, 3)"
   ]
  },
  {
   "cell_type": "code",
   "execution_count": 6,
   "metadata": {},
   "outputs": [
    {
     "name": "stdout",
     "output_type": "stream",
     "text": [
      "0.6425717274347941 0.2116652258446815\n"
     ]
    }
   ],
   "source": [
    "# Each tensor support lots of aggreates automatically\n",
    "print(x.mean(), x.std())"
   ]
  },
  {
   "cell_type": "code",
   "execution_count": 7,
   "metadata": {},
   "outputs": [
    {
     "name": "stdout",
     "output_type": "stream",
     "text": [
      "\n",
      " 0.6462  0.7268  0.8708\n",
      " 0.9846  1.0652  1.2092\n",
      " 0.5951  0.6757  0.8197\n",
      "[torch.FloatTensor of size 3x3]\n",
      "\n"
     ]
    }
   ],
   "source": [
    "# It also supports the typical operations\n",
    "print( x + y)"
   ]
  },
  {
   "cell_type": "code",
   "execution_count": 8,
   "metadata": {},
   "outputs": [
    {
     "name": "stderr",
     "output_type": "stream",
     "text": [
      "C:\\Users\\perus\\AppData\\Local\\Continuum\\Anaconda3\\envs\\torch\\lib\\site-packages\\torch\\tensor.py:309: UserWarning: other is not broadcastable to self, but they have the same number of elements.  Falling back to deprecated pointwise behavior.\n",
      "  return self.add_(other)\n"
     ]
    }
   ],
   "source": [
    "# Inplace operations\n",
    "x += y"
   ]
  },
  {
   "cell_type": "code",
   "execution_count": 9,
   "metadata": {},
   "outputs": [
    {
     "data": {
      "text/plain": [
       "\n",
       " 0.0642  0.1163  0.2093\n",
       " 0.1059  0.1918  0.3451\n",
       " 0.0815  0.1476  0.2655\n",
       "[torch.FloatTensor of size 3x3]"
      ]
     },
     "execution_count": 9,
     "metadata": {},
     "output_type": "execute_result"
    }
   ],
   "source": [
    "# Multiplication (seems to choose beteen element-wise and matrix mul based on context)\n",
    "x * y"
   ]
  },
  {
   "cell_type": "code",
   "execution_count": 10,
   "metadata": {},
   "outputs": [
    {
     "data": {
      "text/plain": [
       "\n",
       " 0.6462  1.0652  0.8197\n",
       "[torch.FloatTensor of size 1x3]"
      ]
     },
     "execution_count": 10,
     "metadata": {},
     "output_type": "execute_result"
    }
   ],
   "source": [
    "# Transpose operation\n",
    "x.t()"
   ]
  },
  {
   "cell_type": "markdown",
   "metadata": {},
   "source": [
    "So pytorch feels just like numpy basically.  But Tensors are pytorch's only trick.  Autograd is built in to pytorch.  Let's examine an example of utilizing autograd for backprop."
   ]
  },
  {
   "cell_type": "code",
   "execution_count": 11,
   "metadata": {},
   "outputs": [],
   "source": [
    "from torch.autograd import Variable\n",
    "# First, create a Variable.  This class wraps the tensor (the data) \n",
    "# of the variable, but also contains other useful information\n",
    "# like its gradient.\n",
    "\n",
    "# We'll create x and y again, but this time they will be variables\n",
    "x = Variable(t.rand(5, 3), requires_grad=True)\n",
    "y = x + 2\n",
    "\n",
    "# We'll then create z, a variable that is the product of x and y\n",
    "z = y * y * 3\n",
    "\n",
    "\n",
    "# This represents the output of our prediction\n",
    "out = z.mean()"
   ]
  },
  {
   "cell_type": "code",
   "execution_count": 12,
   "metadata": {},
   "outputs": [
    {
     "data": {
      "text/plain": [
       "(None,\n",
       " <AddBackward0 at 0x23849013048>,\n",
       " <MulBackward0 at 0x23849013080>,\n",
       " <MeanBackward1 at 0x238490130b8>)"
      ]
     },
     "execution_count": 12,
     "metadata": {},
     "output_type": "execute_result"
    }
   ],
   "source": [
    "# Since x, y, and z are Variables, we can ask for their gradient \n",
    "# functions. Only variables defined through operations will have \n",
    "# this.  (So y, z, and out in this case)\n",
    "x.grad_fn, y.grad_fn, z.grad_fn, out.grad_fn"
   ]
  },
  {
   "cell_type": "code",
   "execution_count": 13,
   "metadata": {},
   "outputs": [],
   "source": [
    "# Calculate our gradients.  This will find d(out)/dx\n",
    "out.backward()"
   ]
  },
  {
   "cell_type": "code",
   "execution_count": 14,
   "metadata": {},
   "outputs": [
    {
     "data": {
      "text/plain": [
       "Variable containing:\n",
       " 0.9133  1.0600  1.0955\n",
       " 1.0822  1.1136  0.9219\n",
       " 1.0531  1.1708  1.0622\n",
       " 1.1050  1.0888  0.9469\n",
       " 0.8596  0.9125  0.8996\n",
       "[torch.FloatTensor of size 5x3]"
      ]
     },
     "execution_count": 14,
     "metadata": {},
     "output_type": "execute_result"
    }
   ],
   "source": [
    "# Let's check out our gradient with respect to x\n",
    "x.grad"
   ]
  },
  {
   "cell_type": "code",
   "execution_count": 21,
   "metadata": {},
   "outputs": [],
   "source": [
    "# So lets try to create a slightly more realistic example.  We'd\n",
    "# like to implement gradient descent simply using pytroch\n",
    "\n",
    "# X here is sample of 100 randomly generated data points\n",
    "X = Variable(t.rand(100, 2), requires_grad=False)\n",
    "# p are our parameters\n",
    "p = Variable(t.rand(2), requires_grad=True)\n",
    "\n",
    "# We need an error term for a gradient, so generate some random answers\n",
    "y = Variable(t.rand(100, 1))"
   ]
  },
  {
   "cell_type": "code",
   "execution_count": 22,
   "metadata": {
    "scrolled": true
   },
   "outputs": [],
   "source": [
    "learning_rate = 1e-6\n",
    "trace = []\n",
    "for i in range(1, 2000):\n",
    "    # Our prediction is given by\n",
    "    yhat = t.matmul(X, p)\n",
    "\n",
    "    # Then calculate loss\n",
    "    error = (yhat - y).pow(2).sum()\n",
    "    trace.append(int(error.data))\n",
    "    # Calculate our gradients\n",
    "    error.backward()\n",
    "\n",
    "    # Update our parameters\n",
    "    p.data -= (p.grad.data * learning_rate)\n",
    "    \n",
    "    # reset our gradients to zero\n",
    "    p.grad.data.zero_()"
   ]
  },
  {
   "cell_type": "code",
   "execution_count": 23,
   "metadata": {},
   "outputs": [
    {
     "data": {
      "text/plain": [
       "[<matplotlib.lines.Line2D at 0x2384a13df98>]"
      ]
     },
     "execution_count": 23,
     "metadata": {},
     "output_type": "execute_result"
    },
    {
     "data": {
      "image/png": "[encoded data removed]",
      "text/plain": [
       "<Figure size 432x288 with 1 Axes>"
      ]
     },
     "metadata": {},
     "output_type": "display_data"
    }
   ],
   "source": [
    "# We can run this for increasing iterations and see the error converge\n",
    "import matplotlib.pyplot as plt\n",
    "%matplotlib inline\n",
    "\n",
    "plt.plot(trace)"
   ]
  },
  {
   "cell_type": "markdown",
   "metadata": {},
   "source": [
    "And that's it!\n",
    "\n",
    "In a typical pytorch tutorial we would now start considering the nn module that supports all of that delicious neural network code, but we're actually more interested in using pyro than neural networks for the moment.  There are also some awesome data loaders available in pytorch that we'll probably want to explore using. "
   ]
  }
 ],
 "metadata": {
  "kernelspec": {
   "display_name": "Python 3",
   "language": "python",
   "name": "python3"
  },
  "language_info": {
   "codemirror_mode": {
    "name": "ipython",
    "version": 3
   },
   "file_extension": ".py",
   "mimetype": "text/x-python",
   "name": "python",
   "nbconvert_exporter": "python",
   "pygments_lexer": "ipython3",
   "version": "3.6.5"
  }
 },
 "nbformat": 4,
 "nbformat_minor": 2
}
